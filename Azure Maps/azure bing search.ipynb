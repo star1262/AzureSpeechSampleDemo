{
 "cells": [
  {
   "cell_type": "code",
   "execution_count": null,
   "metadata": {},
   "outputs": [],
   "source": [
    "!pip install azure-cognitiveservices-speech\n",
    "!pip install azure-identity\n",
    "!pip install openai\n",
    "!pip install python-dotenv"
   ]
  },
  {
   "cell_type": "code",
   "execution_count": 1,
   "metadata": {},
   "outputs": [
    {
     "name": "stdout",
     "output_type": "stream",
     "text": [
      "{'results': [{'dateTime': '2024-09-30T13:38:00-07:00', 'phrase': 'Partly sunny', 'iconCode': 3, 'hasPrecipitation': False, 'isDayTime': True, 'temperature': {'value': 19.5, 'unit': 'C', 'unitType': 17}, 'realFeelTemperature': {'value': 22.6, 'unit': 'C', 'unitType': 17}, 'realFeelTemperatureShade': {'value': 18.8, 'unit': 'C', 'unitType': 17}, 'relativeHumidity': 43, 'dewPoint': {'value': 6.7, 'unit': 'C', 'unitType': 17}, 'wind': {'direction': {'degrees': 0.0, 'localizedDescription': 'N'}, 'speed': {'value': 2.7, 'unit': 'km/h', 'unitType': 7}}, 'windGust': {'speed': {'value': 7.0, 'unit': 'km/h', 'unitType': 7}}, 'uvIndex': 3, 'uvIndexPhrase': 'Moderate', 'visibility': {'value': 43.5, 'unit': 'km', 'unitType': 6}, 'obstructionsToVisibility': '', 'cloudCover': 35, 'ceiling': {'value': 12192.0, 'unit': 'm', 'unitType': 5}, 'pressure': {'value': 1029.1, 'unit': 'mb', 'unitType': 14}, 'pressureTendency': {'localizedDescription': 'Falling', 'code': 'F'}, 'past24HourTemperatureDeparture': {'value': 3.0, 'unit': 'C', 'unitType': 17}, 'apparentTemperature': {'value': 19.4, 'unit': 'C', 'unitType': 17}, 'windChillTemperature': {'value': 19.4, 'unit': 'C', 'unitType': 17}, 'wetBulbTemperature': {'value': 12.4, 'unit': 'C', 'unitType': 17}, 'precipitationSummary': {'pastHour': {'value': 0.0, 'unit': 'mm', 'unitType': 3}, 'past3Hours': {'value': 0.0, 'unit': 'mm', 'unitType': 3}, 'past6Hours': {'value': 0.0, 'unit': 'mm', 'unitType': 3}, 'past9Hours': {'value': 0.0, 'unit': 'mm', 'unitType': 3}, 'past12Hours': {'value': 0.0, 'unit': 'mm', 'unitType': 3}, 'past18Hours': {'value': 0.0, 'unit': 'mm', 'unitType': 3}, 'past24Hours': {'value': 0.0, 'unit': 'mm', 'unitType': 3}}, 'temperatureSummary': {'past6Hours': {'minimum': {'value': 6.1, 'unit': 'C', 'unitType': 17}, 'maximum': {'value': 19.5, 'unit': 'C', 'unitType': 17}}, 'past12Hours': {'minimum': {'value': 5.0, 'unit': 'C', 'unitType': 17}, 'maximum': {'value': 19.5, 'unit': 'C', 'unitType': 17}}, 'past24Hours': {'minimum': {'value': 5.0, 'unit': 'C', 'unitType': 17}, 'maximum': {'value': 19.5, 'unit': 'C', 'unitType': 17}}}}]}\n"
     ]
    }
   ],
   "source": [
    "### Azure Maps \n",
    "## \"https://atlas.microsoft.com/weather/currentConditions/json?api-version=1.0&query=47.632346,-122.138874&subscription-key=******\"\n",
    "import requests\n",
    "import os\n",
    "from dotenv import load_dotenv\n",
    "\n",
    "if not load_dotenv() : \n",
    "    print(\"'.env' file is missing\")\n",
    "\n",
    "\n",
    "# https://learn.microsoft.com/en-us/azure/azure-maps/how-to-request-weather-data#request-real-time-weather-data\n",
    "def get_current_weather_data(latitude, longitude, subscription_key):\n",
    "    # Base URL\n",
    "    base_url = \"https://atlas.microsoft.com/weather/currentConditions/json\"\n",
    "    \n",
    "    # Parameters\n",
    "    params = {\n",
    "        \"api-version\": \"1.0\",\n",
    "        \"query\": f\"{latitude},{longitude}\",\n",
    "        \"subscription-key\": subscription_key\n",
    "    }\n",
    "    \n",
    "    # Send GET request\n",
    "    response = requests.get(base_url, params=params)\n",
    "    \n",
    "    # Check if the request was successful\n",
    "    if response.status_code == 200:\n",
    "        return response.json()  # Return the JSON data\n",
    "    else:\n",
    "        response.raise_for_status()  # Raise an error for bad responses\n",
    "\n",
    "# Example usage:\n",
    "latitude = 47.632346\n",
    "longitude = -122.138874\n",
    "Azure_Maps_api_key=os.getenv(\"AZURE_MAPS_KEY\") \n",
    "\n",
    "weather_data = get_current_weather_data(latitude, longitude, Azure_Maps_api_key)\n",
    "print(weather_data)\n"
   ]
  },
  {
   "cell_type": "code",
   "execution_count": 2,
   "metadata": {},
   "outputs": [
    {
     "name": "stdout",
     "output_type": "stream",
     "text": [
      "{'summary': {'query': 'seoul', 'queryType': 'NON_NEAR', 'queryTime': 51, 'numResults': 10, 'offset': 0, 'totalResults': 23, 'fuzzyLevel': 1}, 'results': [{'type': 'Geography', 'id': 'Dvl-fR94zzIYY4LHgB4QAA', 'score': 1, 'entityType': 'Municipality', 'matchConfidence': {'score': 1}, 'address': {'municipality': 'Seoul', 'countrySubdivision': 'Seoul-Jikhalsi', 'countrySubdivisionName': 'Seoul-Jikhalsi', 'countrySubdivisionCode': '11', 'countryCode': 'KR', 'country': 'South Korea', 'countryCodeISO3': 'KOR', 'freeformAddress': 'Seoul Seoul-Jikhalsi'}, 'position': {'lat': 37.56829, 'lon': 126.99778}, 'viewport': {'topLeftPoint': {'lat': 37.6986, 'lon': 126.77916}, 'btmRightPoint': {'lat': 37.43932, 'lon': 127.18692}}, 'boundingBox': {'topLeftPoint': {'lat': 37.6986, 'lon': 126.77916}, 'btmRightPoint': {'lat': 37.43932, 'lon': 127.18692}}, 'dataSources': {'geometry': {'id': '00005858-5800-1200-0000-00007d30cf2f'}}}, {'type': 'Geography', 'id': 'B067jTAX2C3tDFDMw4Xftg', 'score': 0.8917561498683041, 'entityType': 'CountrySubdivision', 'matchConfidence': {'score': 0.8917561498683041}, 'address': {'countrySubdivision': 'Seoul-Jikhalsi', 'countrySubdivisionName': 'Seoul-Jikhalsi', 'countrySubdivisionCode': '11', 'countryCode': 'KR', 'country': 'South Korea', 'countryCodeISO3': 'KOR', 'freeformAddress': 'Seoul-Jikhalsi'}, 'position': {'lat': 37.55271, 'lon': 126.99596}, 'viewport': {'topLeftPoint': {'lat': 37.6986, 'lon': 126.77916}, 'btmRightPoint': {'lat': 37.43932, 'lon': 127.18692}}, 'boundingBox': {'topLeftPoint': {'lat': 37.6986, 'lon': 126.77916}, 'btmRightPoint': {'lat': 37.43932, 'lon': 127.18692}}, 'dataSources': {'geometry': {'id': '00005858-5800-1200-0000-0000773735cf'}}}, {'type': 'Street', 'id': 'jLwLqj33h0RS7uvV_JSXzQ', 'score': 1, 'matchConfidence': {'score': 1}, 'address': {'streetName': 'West Seoul Lane', 'municipality': 'Dunnellon', 'countrySecondarySubdivision': 'Citrus', 'countrySubdivision': 'FL', 'countrySubdivisionName': 'Florida', 'countrySubdivisionCode': 'FL', 'postalCode': '34433', 'extendedPostalCode': '34433-4523, 34433-4524, 34433-4532, 34433-4533', 'countryCode': 'US', 'country': 'United States', 'countryCodeISO3': 'USA', 'freeformAddress': 'West Seoul Lane, Dunnellon, FL 34433', 'localName': 'Dunnellon'}, 'position': {'lat': 28.99051, 'lon': -82.53891}, 'viewport': {'topLeftPoint': {'lat': 28.99053, 'lon': -82.54293}, 'btmRightPoint': {'lat': 28.99046, 'lon': -82.53693}}}, {'type': 'Street', 'id': 'LUk-qM4FJIXgSFmM6olrmw', 'score': 1, 'matchConfidence': {'score': 1}, 'address': {'streetName': 'Avenida Seoul', 'municipalitySubdivision': 'Santa Rosa', 'municipality': 'Piracicaba', 'countrySubdivision': 'São Paulo', 'countrySubdivisionName': 'São Paulo', 'countrySubdivisionCode': 'SP', 'postalCode': '13414', 'countryCode': 'BR', 'country': 'Brazil', 'countryCodeISO3': 'BRA', 'freeformAddress': 'Avenida Seoul, 13414, Piracicaba', 'localName': 'Piracicaba'}, 'position': {'lat': -22.67031, 'lon': -47.61123}, 'viewport': {'topLeftPoint': {'lat': -22.66399, 'lon': -47.62133}, 'btmRightPoint': {'lat': -22.68197, 'lon': -47.60183}}}, {'type': 'Street', 'id': '8kB0C-XftSMhRJ9uAIOBrw', 'score': 1, 'matchConfidence': {'score': 1}, 'address': {'streetName': 'Rue Séoul', 'municipalitySubdivision': 'Saiss', 'municipality': 'Fez', 'neighbourhood': 'Hay Narjiss', 'countrySecondarySubdivision': 'Fez', 'countrySubdivision': 'Fès-Meknès', 'countrySubdivisionName': 'Fès-Meknès', 'countrySubdivisionCode': '3', 'postalCode': '30000', 'countryCode': 'MA', 'country': 'Morocco', 'countryCodeISO3': 'MAR', 'freeformAddress': 'Rue Séoul, 30000 Fez, Fès-Meknès', 'localName': 'Fez'}, 'position': {'lat': 34.01156, 'lon': -4.97399}, 'viewport': {'topLeftPoint': {'lat': 34.01187, 'lon': -4.97426}, 'btmRightPoint': {'lat': 34.01095, 'lon': -4.97353}}}, {'type': 'Street', 'id': 'JVFx2R2orgSQOPSgX-B9YQ', 'score': 1, 'matchConfidence': {'score': 1}, 'address': {'streetName': 'Seoul Street', 'municipality': 'Port Royal', 'countrySecondarySubdivision': 'Beaufort', 'countrySubdivision': 'SC', 'countrySubdivisionName': 'South Carolina', 'countrySubdivisionCode': 'SC', 'postalCode': '29902', 'extendedPostalCode': '29902-6198, 29902-6199', 'countryCode': 'US', 'country': 'United States', 'countryCodeISO3': 'USA', 'freeformAddress': 'Seoul Street, Beaufort, SC 29902', 'localName': 'Beaufort'}, 'position': {'lat': 32.34573, 'lon': -80.69735}, 'viewport': {'topLeftPoint': {'lat': 32.34605, 'lon': -80.69807}, 'btmRightPoint': {'lat': 32.34546, 'lon': -80.69659}}}, {'type': 'Street', 'id': 'CzOep3HfH3x2kY1x4QQTbw', 'score': 1, 'matchConfidence': {'score': 1}, 'address': {'streetName': 'Seoul Court', 'municipality': 'Antelope', 'countrySecondarySubdivision': 'Sacramento', 'countrySubdivision': 'CA', 'countrySubdivisionName': 'California', 'countrySubdivisionCode': 'CA', 'postalCode': '95843', 'extendedPostalCode': '95843-5263', 'countryCode': 'US', 'country': 'United States', 'countryCodeISO3': 'USA', 'freeformAddress': 'Seoul Court, Antelope, CA 95843', 'localName': 'Antelope'}, 'position': {'lat': 38.72625, 'lon': -121.37052}, 'viewport': {'topLeftPoint': {'lat': 38.72659, 'lon': -121.37059}, 'btmRightPoint': {'lat': 38.72604, 'lon': -121.37051}}}, {'type': 'Street', 'id': '-QDuQT3P7JoEZPxiamnLyQ', 'score': 1, 'matchConfidence': {'score': 1}, 'address': {'streetName': 'Seoul Street', 'municipality': 'Zephyrhills', 'countrySecondarySubdivision': 'Pasco', 'countrySubdivision': 'FL', 'countrySubdivisionName': 'Florida', 'countrySubdivisionCode': 'FL', 'postalCode': '33541', 'countryCode': 'US', 'country': 'United States', 'countryCodeISO3': 'USA', 'freeformAddress': 'Seoul Street, Zephyrhills, FL 33541', 'localName': 'Zephyrhills'}, 'position': {'lat': 28.21046, 'lon': -82.19896}, 'viewport': {'topLeftPoint': {'lat': 28.21166, 'lon': -82.19897}, 'btmRightPoint': {'lat': 28.20903, 'lon': -82.19895}}}, {'type': 'Street', 'id': 'JzJDy6P5MWoQJjE1Y_e_zg', 'score': 0.9723048628645057, 'matchConfidence': {'score': 0.9723048628645057}, 'address': {'streetName': 'Seoul Street', 'countrySecondarySubdivision': 'Iloilo', 'countrySubdivision': 'Western Visayas', 'countrySubdivisionName': 'Western Visayas', 'countrySubdivisionCode': '6', 'countryCode': 'PH', 'country': 'Philippines', 'countryCodeISO3': 'PHL', 'freeformAddress': 'Seoul Street, Western Visayas, Iloilo'}, 'position': {'lat': 10.72269, 'lon': 122.52561}, 'viewport': {'topLeftPoint': {'lat': 10.72535, 'lon': 122.52362}, 'btmRightPoint': {'lat': 10.7204, 'lon': 122.52727}}}, {'type': 'Street', 'id': 'i4dzoywRUwHx7OkuJk4aEg', 'score': 0.952397581506987, 'matchConfidence': {'score': 0.952397581506987}, 'address': {'streetName': 'Seoul Avenue', 'municipalitySubdivision': 'Austral', 'municipality': 'Sydney', 'countrySecondarySubdivision': 'Sydney', 'countrySubdivision': 'New South Wales', 'countrySubdivisionName': 'New South Wales', 'countrySubdivisionCode': 'NSW', 'postalCode': '2179', 'countryCode': 'AU', 'country': 'Australia', 'countryCodeISO3': 'AUS', 'freeformAddress': 'Seoul Avenue, Austral, NSW, 2179', 'localName': 'Austral'}, 'position': {'lat': -33.91019, 'lon': 150.82689}, 'viewport': {'topLeftPoint': {'lat': -33.9094, 'lon': 150.82197}, 'btmRightPoint': {'lat': -33.91297, 'lon': 150.83102}}}]}\n",
      "37.56829 126.99778\n"
     ]
    }
   ],
   "source": [
    "import requests\n",
    "\n",
    "def get_address_info(address, subscription_key, language='en-US'):\n",
    "    # Base URL\n",
    "    base_url = \"https://atlas.microsoft.com/search/address/json\"\n",
    "    \n",
    "    # Parameters\n",
    "    params = {\n",
    "        \"subscription-key\": subscription_key,\n",
    "        \"api-version\": \"1.0\",\n",
    "        \"language\": language,\n",
    "        \"query\": address\n",
    "    }\n",
    "    \n",
    "    # Send GET request\n",
    "    response = requests.get(base_url, params=params)\n",
    "    \n",
    "    # Check if the request was successful\n",
    "    if response.status_code == 200:\n",
    "        return response.json()  # Return the JSON data\n",
    "    else:\n",
    "        response.raise_for_status()  # Raise an error for bad responses\n",
    "\n",
    "# Example usage:\n",
    "address = \"Seoul\"\n",
    "Azure_Maps_api_key=os.getenv(\"AZURE_MAPS_KEY\") \n",
    "\n",
    "address_info = get_address_info(address, Azure_Maps_api_key)\n",
    "print(address_info)\n",
    "\n",
    "lat = address_info['results'][0]['position']['lat']\n",
    "lon = address_info['results'][0]['position']['lon']\n",
    "\n",
    "print(lat, lon)"
   ]
  },
  {
   "cell_type": "code",
   "execution_count": 3,
   "metadata": {},
   "outputs": [
    {
     "name": "stdout",
     "output_type": "stream",
     "text": [
      "{'summary': {'startDate': '2024-10-05T08:00:00-07:00', 'severity': 7, 'phrase': 'Partly sunny this weekend', 'category': ''}, 'forecasts': [{'date': '2024-09-30T07:00:00-07:00', 'temperature': {'minimum': {'value': 8.7, 'unit': 'C', 'unitType': 17}, 'maximum': {'value': 19.1, 'unit': 'C', 'unitType': 17}}, 'realFeelTemperature': {'minimum': {'value': 9.0, 'unit': 'C', 'unitType': 17}, 'maximum': {'value': 20.4, 'unit': 'C', 'unitType': 17}}, 'realFeelTemperatureShade': {'minimum': {'value': 9.0, 'unit': 'C', 'unitType': 17}, 'maximum': {'value': 17.5, 'unit': 'C', 'unitType': 17}}, 'hoursOfSun': 7.2, 'degreeDaySummary': {'heating': {'value': 4.0, 'unit': 'C', 'unitType': 17}, 'cooling': {'value': 0.0, 'unit': 'C', 'unitType': 17}}, 'airAndPollen': [{'name': 'AirQuality', 'value': 51, 'category': 'Moderate', 'categoryValue': 2, 'type': 'Nitrogen Dioxide'}, {'name': 'Grass', 'value': 2, 'category': 'Low', 'categoryValue': 1}, {'name': 'Mold', 'value': 0, 'category': 'Low', 'categoryValue': 1}, {'name': 'Ragweed', 'value': 5, 'category': 'Low', 'categoryValue': 1}, {'name': 'Tree', 'value': 0, 'category': 'Low', 'categoryValue': 1}, {'name': 'UVIndex', 'value': 4, 'category': 'Moderate', 'categoryValue': 2}], 'day': {'iconCode': 4, 'iconPhrase': 'Intermittent clouds', 'hasPrecipitation': False, 'shortPhrase': 'Times of clouds and sun', 'longPhrase': 'Times of clouds and sun', 'precipitationProbability': 0, 'thunderstormProbability': 0, 'rainProbability': 0, 'snowProbability': 0, 'iceProbability': 0, 'wind': {'direction': {'degrees': 3.0, 'localizedDescription': 'N'}, 'speed': {'value': 9.3, 'unit': 'km/h', 'unitType': 7}}, 'windGust': {'direction': {'degrees': 1.0, 'localizedDescription': 'N'}, 'speed': {'value': 25.9, 'unit': 'km/h', 'unitType': 7}}, 'totalLiquid': {'value': 0.0, 'unit': 'mm', 'unitType': 3}, 'rain': {'value': 0.0, 'unit': 'mm', 'unitType': 3}, 'snow': {'value': 0.0, 'unit': 'cm', 'unitType': 4}, 'ice': {'value': 0.0, 'unit': 'mm', 'unitType': 3}, 'hoursOfPrecipitation': 0.0, 'hoursOfRain': 0.0, 'hoursOfSnow': 0.0, 'hoursOfIce': 0.0, 'cloudCover': 46}, 'night': {'iconCode': 35, 'iconPhrase': 'Partly cloudy', 'hasPrecipitation': False, 'shortPhrase': 'Partly cloudy', 'longPhrase': 'Partly cloudy', 'precipitationProbability': 2, 'thunderstormProbability': 0, 'rainProbability': 2, 'snowProbability': 0, 'iceProbability': 0, 'wind': {'direction': {'degrees': 27.0, 'localizedDescription': 'NNE'}, 'speed': {'value': 7.4, 'unit': 'km/h', 'unitType': 7}}, 'windGust': {'direction': {'degrees': 2.0, 'localizedDescription': 'N'}, 'speed': {'value': 22.2, 'unit': 'km/h', 'unitType': 7}}, 'totalLiquid': {'value': 0.0, 'unit': 'mm', 'unitType': 3}, 'rain': {'value': 0.0, 'unit': 'mm', 'unitType': 3}, 'snow': {'value': 0.0, 'unit': 'cm', 'unitType': 4}, 'ice': {'value': 0.0, 'unit': 'mm', 'unitType': 3}, 'hoursOfPrecipitation': 0.0, 'hoursOfRain': 0.0, 'hoursOfSnow': 0.0, 'hoursOfIce': 0.0, 'cloudCover': 38}, 'sources': ['AccuWeather']}, {'date': '2024-10-01T07:00:00-07:00', 'temperature': {'minimum': {'value': 10.0, 'unit': 'C', 'unitType': 17}, 'maximum': {'value': 21.1, 'unit': 'C', 'unitType': 17}}, 'realFeelTemperature': {'minimum': {'value': 10.1, 'unit': 'C', 'unitType': 17}, 'maximum': {'value': 21.7, 'unit': 'C', 'unitType': 17}}, 'realFeelTemperatureShade': {'minimum': {'value': 10.1, 'unit': 'C', 'unitType': 17}, 'maximum': {'value': 19.9, 'unit': 'C', 'unitType': 17}}, 'hoursOfSun': 4.7, 'degreeDaySummary': {'heating': {'value': 2.0, 'unit': 'C', 'unitType': 17}, 'cooling': {'value': 0.0, 'unit': 'C', 'unitType': 17}}, 'airAndPollen': [{'name': 'AirQuality', 'value': 47, 'category': 'Good', 'categoryValue': 1, 'type': 'Nitrogen Dioxide'}, {'name': 'Grass', 'value': 2, 'category': 'Low', 'categoryValue': 1}, {'name': 'Mold', 'value': 300, 'category': 'Low', 'categoryValue': 1}, {'name': 'Ragweed', 'value': 6, 'category': 'Low', 'categoryValue': 1}, {'name': 'Tree', 'value': 0, 'category': 'Low', 'categoryValue': 1}, {'name': 'UVIndex', 'value': 3, 'category': 'Moderate', 'categoryValue': 2}], 'day': {'iconCode': 4, 'iconPhrase': 'Intermittent clouds', 'hasPrecipitation': False, 'shortPhrase': 'Times of clouds and sun', 'longPhrase': 'Times of clouds and sun', 'precipitationProbability': 6, 'thunderstormProbability': 0, 'rainProbability': 6, 'snowProbability': 0, 'iceProbability': 0, 'wind': {'direction': {'degrees': 347.0, 'localizedDescription': 'NNW'}, 'speed': {'value': 7.4, 'unit': 'km/h', 'unitType': 7}}, 'windGust': {'direction': {'degrees': 354.0, 'localizedDescription': 'N'}, 'speed': {'value': 20.4, 'unit': 'km/h', 'unitType': 7}}, 'totalLiquid': {'value': 0.0, 'unit': 'mm', 'unitType': 3}, 'rain': {'value': 0.0, 'unit': 'mm', 'unitType': 3}, 'snow': {'value': 0.0, 'unit': 'cm', 'unitType': 4}, 'ice': {'value': 0.0, 'unit': 'mm', 'unitType': 3}, 'hoursOfPrecipitation': 0.0, 'hoursOfRain': 0.0, 'hoursOfSnow': 0.0, 'hoursOfIce': 0.0, 'cloudCover': 67}, 'night': {'iconCode': 36, 'iconPhrase': 'Intermittent clouds', 'hasPrecipitation': False, 'shortPhrase': 'Partly cloudy', 'longPhrase': 'Partly cloudy', 'precipitationProbability': 1, 'thunderstormProbability': 0, 'rainProbability': 1, 'snowProbability': 0, 'iceProbability': 0, 'wind': {'direction': {'degrees': 353.0, 'localizedDescription': 'N'}, 'speed': {'value': 7.4, 'unit': 'km/h', 'unitType': 7}}, 'windGust': {'direction': {'degrees': 41.0, 'localizedDescription': 'NE'}, 'speed': {'value': 18.5, 'unit': 'km/h', 'unitType': 7}}, 'totalLiquid': {'value': 0.0, 'unit': 'mm', 'unitType': 3}, 'rain': {'value': 0.0, 'unit': 'mm', 'unitType': 3}, 'snow': {'value': 0.0, 'unit': 'cm', 'unitType': 4}, 'ice': {'value': 0.0, 'unit': 'mm', 'unitType': 3}, 'hoursOfPrecipitation': 0.0, 'hoursOfRain': 0.0, 'hoursOfSnow': 0.0, 'hoursOfIce': 0.0, 'cloudCover': 51}, 'sources': ['AccuWeather']}, {'date': '2024-10-02T07:00:00-07:00', 'temperature': {'minimum': {'value': 8.2, 'unit': 'C', 'unitType': 17}, 'maximum': {'value': 17.5, 'unit': 'C', 'unitType': 17}}, 'realFeelTemperature': {'minimum': {'value': 4.9, 'unit': 'C', 'unitType': 17}, 'maximum': {'value': 19.6, 'unit': 'C', 'unitType': 17}}, 'realFeelTemperatureShade': {'minimum': {'value': 4.9, 'unit': 'C', 'unitType': 17}, 'maximum': {'value': 16.3, 'unit': 'C', 'unitType': 17}}, 'hoursOfSun': 6.5, 'degreeDaySummary': {'heating': {'value': 5.0, 'unit': 'C', 'unitType': 17}, 'cooling': {'value': 0.0, 'unit': 'C', 'unitType': 17}}, 'airAndPollen': [{'name': 'AirQuality', 'value': 44, 'category': 'Good', 'categoryValue': 1, 'type': 'Nitrogen Dioxide'}, {'name': 'Grass', 'value': 1, 'category': 'Low', 'categoryValue': 1}, {'name': 'Mold', 'value': 330, 'category': 'Low', 'categoryValue': 1}, {'name': 'Ragweed', 'value': 6, 'category': 'Low', 'categoryValue': 1}, {'name': 'Tree', 'value': 0, 'category': 'Low', 'categoryValue': 1}, {'name': 'UVIndex', 'value': 3, 'category': 'Moderate', 'categoryValue': 2}], 'day': {'iconCode': 3, 'iconPhrase': 'Partly sunny', 'hasPrecipitation': False, 'shortPhrase': 'Partly sunny', 'longPhrase': 'Partly sunny', 'precipitationProbability': 1, 'thunderstormProbability': 0, 'rainProbability': 1, 'snowProbability': 0, 'iceProbability': 0, 'wind': {'direction': {'degrees': 22.0, 'localizedDescription': 'NNE'}, 'speed': {'value': 9.3, 'unit': 'km/h', 'unitType': 7}}, 'windGust': {'direction': {'degrees': 19.0, 'localizedDescription': 'NNE'}, 'speed': {'value': 29.6, 'unit': 'km/h', 'unitType': 7}}, 'totalLiquid': {'value': 0.0, 'unit': 'mm', 'unitType': 3}, 'rain': {'value': 0.0, 'unit': 'mm', 'unitType': 3}, 'snow': {'value': 0.0, 'unit': 'cm', 'unitType': 4}, 'ice': {'value': 0.0, 'unit': 'mm', 'unitType': 3}, 'hoursOfPrecipitation': 0.0, 'hoursOfRain': 0.0, 'hoursOfSnow': 0.0, 'hoursOfIce': 0.0, 'cloudCover': 44}, 'night': {'iconCode': 34, 'iconPhrase': 'Mostly clear', 'hasPrecipitation': False, 'shortPhrase': 'Clear to partly cloudy', 'longPhrase': 'Clear to partly cloudy', 'precipitationProbability': 0, 'thunderstormProbability': 0, 'rainProbability': 0, 'snowProbability': 0, 'iceProbability': 0, 'wind': {'direction': {'degrees': 28.0, 'localizedDescription': 'NNE'}, 'speed': {'value': 11.1, 'unit': 'km/h', 'unitType': 7}}, 'windGust': {'direction': {'degrees': 37.0, 'localizedDescription': 'NE'}, 'speed': {'value': 24.1, 'unit': 'km/h', 'unitType': 7}}, 'totalLiquid': {'value': 0.0, 'unit': 'mm', 'unitType': 3}, 'rain': {'value': 0.0, 'unit': 'mm', 'unitType': 3}, 'snow': {'value': 0.0, 'unit': 'cm', 'unitType': 4}, 'ice': {'value': 0.0, 'unit': 'mm', 'unitType': 3}, 'hoursOfPrecipitation': 0.0, 'hoursOfRain': 0.0, 'hoursOfSnow': 0.0, 'hoursOfIce': 0.0, 'cloudCover': 19}, 'sources': ['AccuWeather']}, {'date': '2024-10-03T07:00:00-07:00', 'temperature': {'minimum': {'value': 9.0, 'unit': 'C', 'unitType': 17}, 'maximum': {'value': 17.8, 'unit': 'C', 'unitType': 17}}, 'realFeelTemperature': {'minimum': {'value': 5.9, 'unit': 'C', 'unitType': 17}, 'maximum': {'value': 18.3, 'unit': 'C', 'unitType': 17}}, 'realFeelTemperatureShade': {'minimum': {'value': 5.9, 'unit': 'C', 'unitType': 17}, 'maximum': {'value': 16.2, 'unit': 'C', 'unitType': 17}}, 'hoursOfSun': 7.0, 'degreeDaySummary': {'heating': {'value': 5.0, 'unit': 'C', 'unitType': 17}, 'cooling': {'value': 0.0, 'unit': 'C', 'unitType': 17}}, 'airAndPollen': [{'name': 'AirQuality', 'value': 51, 'category': 'Moderate', 'categoryValue': 2, 'type': 'Nitrogen Dioxide'}, {'name': 'Grass', 'value': 0, 'category': 'Low', 'categoryValue': 1}, {'name': 'Mold', 'value': 363, 'category': 'Low', 'categoryValue': 1}, {'name': 'Ragweed', 'value': 6, 'category': 'Low', 'categoryValue': 1}, {'name': 'Tree', 'value': 0, 'category': 'Low', 'categoryValue': 1}, {'name': 'UVIndex', 'value': 3, 'category': 'Moderate', 'categoryValue': 2}], 'day': {'iconCode': 3, 'iconPhrase': 'Partly sunny', 'hasPrecipitation': False, 'shortPhrase': 'Partly sunny', 'longPhrase': 'Partly sunny', 'precipitationProbability': 1, 'thunderstormProbability': 0, 'rainProbability': 1, 'snowProbability': 0, 'iceProbability': 0, 'wind': {'direction': {'degrees': 357.0, 'localizedDescription': 'N'}, 'speed': {'value': 14.8, 'unit': 'km/h', 'unitType': 7}}, 'windGust': {'direction': {'degrees': 344.0, 'localizedDescription': 'NNW'}, 'speed': {'value': 27.8, 'unit': 'km/h', 'unitType': 7}}, 'totalLiquid': {'value': 0.0, 'unit': 'mm', 'unitType': 3}, 'rain': {'value': 0.0, 'unit': 'mm', 'unitType': 3}, 'snow': {'value': 0.0, 'unit': 'cm', 'unitType': 4}, 'ice': {'value': 0.0, 'unit': 'mm', 'unitType': 3}, 'hoursOfPrecipitation': 0.0, 'hoursOfRain': 0.0, 'hoursOfSnow': 0.0, 'hoursOfIce': 0.0, 'cloudCover': 45}, 'night': {'iconCode': 35, 'iconPhrase': 'Partly cloudy', 'hasPrecipitation': False, 'shortPhrase': 'Partly cloudy', 'longPhrase': 'Partly cloudy', 'precipitationProbability': 4, 'thunderstormProbability': 0, 'rainProbability': 4, 'snowProbability': 0, 'iceProbability': 0, 'wind': {'direction': {'degrees': 117.0, 'localizedDescription': 'ESE'}, 'speed': {'value': 9.3, 'unit': 'km/h', 'unitType': 7}}, 'windGust': {'direction': {'degrees': 185.0, 'localizedDescription': 'S'}, 'speed': {'value': 20.4, 'unit': 'km/h', 'unitType': 7}}, 'totalLiquid': {'value': 0.0, 'unit': 'mm', 'unitType': 3}, 'rain': {'value': 0.0, 'unit': 'mm', 'unitType': 3}, 'snow': {'value': 0.0, 'unit': 'cm', 'unitType': 4}, 'ice': {'value': 0.0, 'unit': 'mm', 'unitType': 3}, 'hoursOfPrecipitation': 0.0, 'hoursOfRain': 0.0, 'hoursOfSnow': 0.0, 'hoursOfIce': 0.0, 'cloudCover': 34}, 'sources': ['AccuWeather']}, {'date': '2024-10-04T07:00:00-07:00', 'temperature': {'minimum': {'value': 10.6, 'unit': 'C', 'unitType': 17}, 'maximum': {'value': 18.8, 'unit': 'C', 'unitType': 17}}, 'realFeelTemperature': {'minimum': {'value': 10.6, 'unit': 'C', 'unitType': 17}, 'maximum': {'value': 19.5, 'unit': 'C', 'unitType': 17}}, 'realFeelTemperatureShade': {'minimum': {'value': 10.6, 'unit': 'C', 'unitType': 17}, 'maximum': {'value': 17.3, 'unit': 'C', 'unitType': 17}}, 'hoursOfSun': 6.1, 'degreeDaySummary': {'heating': {'value': 3.0, 'unit': 'C', 'unitType': 17}, 'cooling': {'value': 0.0, 'unit': 'C', 'unitType': 17}}, 'airAndPollen': [{'name': 'AirQuality', 'value': 52, 'category': 'Moderate', 'categoryValue': 2, 'type': 'Nitrogen Dioxide'}, {'name': 'Grass', 'value': 0, 'category': 'Low', 'categoryValue': 1}, {'name': 'Mold', 'value': 490, 'category': 'Low', 'categoryValue': 1}, {'name': 'Ragweed', 'value': 6, 'category': 'Low', 'categoryValue': 1}, {'name': 'Tree', 'value': 0, 'category': 'Low', 'categoryValue': 1}, {'name': 'UVIndex', 'value': 3, 'category': 'Moderate', 'categoryValue': 2}], 'day': {'iconCode': 4, 'iconPhrase': 'Intermittent clouds', 'hasPrecipitation': False, 'shortPhrase': 'Intervals of clouds and sun', 'longPhrase': 'Intervals of clouds and sun', 'precipitationProbability': 25, 'thunderstormProbability': 0, 'rainProbability': 25, 'snowProbability': 0, 'iceProbability': 0, 'wind': {'direction': {'degrees': 198.0, 'localizedDescription': 'SSW'}, 'speed': {'value': 13.0, 'unit': 'km/h', 'unitType': 7}}, 'windGust': {'direction': {'degrees': 203.0, 'localizedDescription': 'SSW'}, 'speed': {'value': 24.1, 'unit': 'km/h', 'unitType': 7}}, 'totalLiquid': {'value': 0.0, 'unit': 'mm', 'unitType': 3}, 'rain': {'value': 0.0, 'unit': 'mm', 'unitType': 3}, 'snow': {'value': 0.0, 'unit': 'cm', 'unitType': 4}, 'ice': {'value': 0.0, 'unit': 'mm', 'unitType': 3}, 'hoursOfPrecipitation': 0.0, 'hoursOfRain': 0.0, 'hoursOfSnow': 0.0, 'hoursOfIce': 0.0, 'cloudCover': 53}, 'night': {'iconCode': 35, 'iconPhrase': 'Partly cloudy', 'hasPrecipitation': False, 'shortPhrase': 'Partly cloudy', 'longPhrase': 'Partly cloudy', 'precipitationProbability': 9, 'thunderstormProbability': 0, 'rainProbability': 9, 'snowProbability': 0, 'iceProbability': 0, 'wind': {'direction': {'degrees': 180.0, 'localizedDescription': 'S'}, 'speed': {'value': 9.3, 'unit': 'km/h', 'unitType': 7}}, 'windGust': {'direction': {'degrees': 197.0, 'localizedDescription': 'SSW'}, 'speed': {'value': 25.9, 'unit': 'km/h', 'unitType': 7}}, 'totalLiquid': {'value': 0.0, 'unit': 'mm', 'unitType': 3}, 'rain': {'value': 0.0, 'unit': 'mm', 'unitType': 3}, 'snow': {'value': 0.0, 'unit': 'cm', 'unitType': 4}, 'ice': {'value': 0.0, 'unit': 'mm', 'unitType': 3}, 'hoursOfPrecipitation': 0.0, 'hoursOfRain': 0.0, 'hoursOfSnow': 0.0, 'hoursOfIce': 0.0, 'cloudCover': 52}, 'sources': ['AccuWeather']}]}\n"
     ]
    }
   ],
   "source": [
    "def get_weather_forecast(latitude, longitude, duration, subscription_key):\n",
    "    # Base URL\n",
    "    base_url = \"https://atlas.microsoft.com/weather/forecast/daily/json\"\n",
    "    \n",
    "    # Parameters\n",
    "    params = {\n",
    "        \"api-version\": \"1.0\",\n",
    "        \"query\": f\"{latitude},{longitude}\",\n",
    "        \"duration\": duration,\n",
    "        \"subscription-key\": subscription_key\n",
    "    }\n",
    "    \n",
    "    # Send GET request\n",
    "    response = requests.get(base_url, params=params)\n",
    "    \n",
    "    # Check if the request was successful\n",
    "    if response.status_code == 200:\n",
    "        return response.json()  # Return the JSON data\n",
    "    else:\n",
    "        response.raise_for_status()  # Raise an error for bad responses\n",
    "\n",
    "# Example usage:\n",
    "latitude = 47.60357\n",
    "longitude = -122.32945\n",
    "duration = 5  # Number of days to get the forecast 아번주 날씨?\n",
    "Azure_Maps_api_key=os.getenv(\"AZURE_MAPS_KEY\") \n",
    "\n",
    "weather_forecast = get_weather_forecast(latitude, longitude, duration, Azure_Maps_api_key)\n",
    "\n",
    "# 출력\n",
    "print(weather_forecast)\n"
   ]
  }
 ],
 "metadata": {
  "kernelspec": {
   "display_name": "Python 3",
   "language": "python",
   "name": "python3"
  },
  "language_info": {
   "codemirror_mode": {
    "name": "ipython",
    "version": 3
   },
   "file_extension": ".py",
   "mimetype": "text/x-python",
   "name": "python",
   "nbconvert_exporter": "python",
   "pygments_lexer": "ipython3",
   "version": "3.11.9"
  }
 },
 "nbformat": 4,
 "nbformat_minor": 2
}
