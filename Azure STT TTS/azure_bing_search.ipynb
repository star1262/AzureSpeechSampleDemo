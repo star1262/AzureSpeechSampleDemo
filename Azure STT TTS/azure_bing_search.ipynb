{
 "cells": [
  {
   "cell_type": "code",
   "execution_count": null,
   "metadata": {},
   "outputs": [],
   "source": [
    "!pip install azure-cognitiveservices-speech\n",
    "!pip install azure-identity\n",
    "!pip install openai\n",
    "!pip install python-dotenv"
   ]
  },
  {
   "cell_type": "code",
   "execution_count": null,
   "metadata": {},
   "outputs": [],
   "source": [
    "import requests\n",
    "from dotenv import load_dotenv\n",
    "\n",
    "if not load_dotenv() : \n",
    "    print(\"'.env' file is missing\")\n",
    "\n",
    "subscription_key = os.getenv(\"BING_SEARCH_KEY\") # get the key at Azure Portal \n",
    "mkt = \"ko-KR\"\n",
    "query =\"서울 날씨\"\n",
    "headers = {\n",
    "    \"Ocp-Apim-Subscription-Key\": subscription_key\n",
    "}\n",
    "params = { 'q': query, 'mkt': mkt }\n",
    "\n",
    "response = requests.get(\"https://api.bing.microsoft.com/v7.0/search\", headers=headers, params=params)\n",
    "\n",
    "\n",
    "if response.status_code == 200:\n",
    "    data = response.json()\n",
    "    for result in data['webPages']['value']:\n",
    "        print(result['name'], result['url'])\n",
    "else:\n",
    "    print(\"Error:\", response.status_code, response.text)"
   ]
  }
 ],
 "metadata": {
  "language_info": {
   "name": "python"
  }
 },
 "nbformat": 4,
 "nbformat_minor": 2
}
